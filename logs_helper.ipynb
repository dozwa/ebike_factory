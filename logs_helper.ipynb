{
 "cells": [
  {
   "cell_type": "code",
   "execution_count": 15,
   "metadata": {},
   "outputs": [],
   "source": [
    "import os\n",
    "\n",
    "log_path = 'Logs/'\n",
    "\n",
    "# Gesamtlog aus allen Log files in log_path erstellen\n",
    "log_all = ''\n",
    "for files in os.listdir(log_path):\n",
    "    with open(log_path + files, 'r') as file:\n",
    "        log_all = log_all + file.read()\n",
    "with open(log_path + 'all_logs.txt', 'w') as file:\n",
    "    file.write(log_all)\n"
   ]
  },
  {
   "cell_type": "code",
   "execution_count": 16,
   "metadata": {},
   "outputs": [],
   "source": [
    "def sort_log_by_time(log_entries):\n",
    "    # Funktion zum Extrahieren der Zeitinformation aus einem Log-Eintrag\n",
    "    def extract_time(entry):\n",
    "        try:\n",
    "            day = entry.split('day ')[1].split(',')[0]\n",
    "        except:\n",
    "            day = 0\n",
    "        try:\n",
    "            hour = entry.split('hour ')[1].split(',')[0]\n",
    "        except:\n",
    "            hour = 0\n",
    "\n",
    "        return day, hour\n",
    "    \n",
    "    # Sortieren der Log-Einträge anhand der extrahierten Zeitinformation\n",
    "    sorted_entries = sorted(log_entries, key=extract_time, reverse=False)\n",
    "    \n",
    "    return sorted_entries"
   ]
  },
  {
   "cell_type": "code",
   "execution_count": 17,
   "metadata": {},
   "outputs": [],
   "source": [
    "# Einlesen der Log-Datei\n",
    "with open('Logs/all_logs.txt', 'r') as file:\n",
    "    log_entries = file.readlines()\n",
    "\n",
    "sorted_entries = sort_log_by_time(log_entries)\n",
    "\n",
    "# Ausgabe der sortierten Log-Einträge in einer neuen Datei\n",
    "with open('Logs/all_logs_sorted.txt', 'w') as file:\n",
    "    file.writelines(sorted_entries)\n"
   ]
  }
 ],
 "metadata": {
  "kernelspec": {
   "display_name": "Simpy_env",
   "language": "python",
   "name": "python3"
  },
  "language_info": {
   "codemirror_mode": {
    "name": "ipython",
    "version": 3
   },
   "file_extension": ".py",
   "mimetype": "text/x-python",
   "name": "python",
   "nbconvert_exporter": "python",
   "pygments_lexer": "ipython3",
   "version": "3.10.13"
  }
 },
 "nbformat": 4,
 "nbformat_minor": 2
}
